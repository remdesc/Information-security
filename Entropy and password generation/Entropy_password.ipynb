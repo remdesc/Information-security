{
 "cells": [
  {
   "cell_type": "markdown",
   "metadata": {},
   "source": [
    "# Noms du binome: Valiau, Descarpentries \n",
    "\n",
    "# Prénoms du binome: Virgile, Rémy\n",
    "\n",
    "## Note: exporter le compte rendu basé sur le notebook au format pdf\n"
   ]
  },
  {
   "cell_type": "markdown",
   "metadata": {},
   "source": [
    "# Entropie et génération de mots de passe\n",
    "* L'objectif de ce tp est de continuer à se familiariser avec la notion d'entropie, mais aussi de comprendre le lien qu'il existe entre cette mesure informationelle et la sécurité d'un générateur (humain ou executable) de mots de passes\n",
    "* Ainsi, nous proposons d'étudier l'entropie d'un tel générateur, et ce en fonction du modèle probabiliste considéré pour le modéliser (contruit à partir d'une lettre, de deux lettres, de 4 lettres, ...). A l'aide de tirrages aléatoires, nous estimerons également le temps moyen nécessaire pour trouver un mot de passe à partir de ce modèle.\n",
    "* A la fin de ce TP, nous considérerons un générateur de mots de passe qui générera un mot de passe en prennant **8 lettres consécutives dans un texte** (sans se soucier des espaces). Ces lettres peuvent faire parti d'un ou de plusieurs mots consécutifs.\n",
    "* Nous faisons l'hypothèse que le texte n'est composé que des 26 lettres de l'alphabet, sans majuscules ni accents\n",
    "\n",
    "Nous chercherons aussi à comprendre (voir dernière question):\n",
    "- les bonnes pratiques pour le défenseur, i.e. la personne cherchant à générer/construire un système de génération de mots de passe.\n",
    "- les bonnes pratiques pour l'attaquant, i.e. la personne essayant de trouver le mot de passe.\n",
    "\n",
    "**Il est important de commenter vos réponses, en utilisant des cellules markdown**\n"
   ]
  },
  {
   "cell_type": "code",
   "execution_count": null,
   "metadata": {},
   "outputs": [],
   "source": [
    "import numpy as np\n",
    "from collections import Counter\n",
    "from numpy import genfromtxt\n",
    "from pandas import read_csv\n",
    "import pandas as pd\n",
    "import time"
   ]
  },
  {
   "cell_type": "markdown",
   "metadata": {},
   "source": [
    "## Modèle monogramme (une lettre)\n",
    "* On récupére des données composées de [lettre,frequence d'apparition de la lettre] (voir fichier csv pour [comma-separated-value](https://en.wikipedia.org/wiki/Comma-separated_values)) "
   ]
  },
  {
   "cell_type": "code",
   "execution_count": null,
   "metadata": {},
   "outputs": [],
   "source": [
    "monogramme = read_csv('monogramme.csv')\n",
    "freq_mono = (monogramme['frequency']).values\n",
    "letters_mono = (monogramme['letters']).values"
   ]
  },
  {
   "cell_type": "markdown",
   "metadata": {},
   "source": [
    "Q: Quelles sont les 5 lettres les plus représentées ?"
   ]
  },
  {
   "cell_type": "code",
   "execution_count": null,
   "metadata": {},
   "outputs": [],
   "source": [
    "monogramme.sort_values(by=['frequency'], ascending=False).head(5)"
   ]
  },
  {
   "cell_type": "markdown",
   "metadata": {},
   "source": [
    "Les 5 lettres les plus représentées sont E, S, A, N et T."
   ]
  },
  {
   "cell_type": "markdown",
   "metadata": {},
   "source": [
    "Ecrire une fonction qui calcule l'entropie à partir d'un vecteur constitué de probabilités empiriques (note, il est important de bien \"gérer le cas ou la probabilité est nulle)."
   ]
  },
  {
   "cell_type": "code",
   "execution_count": null,
   "metadata": {},
   "outputs": [],
   "source": [
    "def entropie(freq):\n",
    "    ent = 0\n",
    "    for i in freq :\n",
    "        if i != 0 :\n",
    "            ent = ent + i*np.log2(i)\n",
    "    return -ent"
   ]
  },
  {
   "cell_type": "markdown",
   "metadata": {},
   "source": [
    "Q: en utilisant ce modèle probabiliste pour générer un mot de passe, quelle est l'entropie d'un mot de passe de 8 lettres ?"
   ]
  },
  {
   "cell_type": "code",
   "execution_count": null,
   "metadata": {},
   "outputs": [],
   "source": [
    "print ('Entropie mot de passe de 8 lettres pour le modèle monogramme :', round(entropie(freq_mono)*8, 3),\" bits\")"
   ]
  },
  {
   "cell_type": "markdown",
   "metadata": {},
   "source": [
    "Q: A l'aide de la fonction `np.random.choice()`, estimer le temps nécessaire en secondes pour tirer 100 000 mots de passes en utilisant ce générateur ? (note: ici le tirage n'est pas forcemment réaliste, car aléatoire, mais l'idée est surtout de mesurer le temps minimal nécessaire pour générer N mots de passes)."
   ]
  },
  {
   "cell_type": "code",
   "execution_count": null,
   "metadata": {},
   "outputs": [],
   "source": [
    "t = time.time()\n",
    "\n",
    "# TO DO\n",
    "np.random.choice(letters_mono, size = (100000, 8), p = freq_mono)\n",
    "\n",
    "t_100000 = time.time() - t\n",
    "print('Temps nécessaire pour générer 100 000 MdP avec le modèle monogramme :', round(t_100000, 5), 's')\n"
   ]
  },
  {
   "cell_type": "markdown",
   "metadata": {},
   "source": [
    "Nous definissons l'\"entropie du devin\" G (guessing entropie) comme le **nombre moyen d'essais successif nécessaires pour trouver un mot de passe à partir de notre générateur**.\n",
    "    On peut montrer que $G\\geq 2^H/4+1$ où $H$ est l'entropie de la source (voir le papier Password_Entropy_and_Password_Quality.pdf )"
   ]
  },
  {
   "cell_type": "markdown",
   "metadata": {},
   "source": [
    "Q: calculer le minorant de $G$ pour ce modèle"
   ]
  },
  {
   "cell_type": "code",
   "execution_count": null,
   "metadata": {},
   "outputs": [],
   "source": [
    "H1 = entropie(freq_mono)*8\n",
    "minorant1 = round((2**H1)/4+1)\n",
    "print('Pour le modèle monogramme : G >= ', \"{:,.0f}\".format(minorant1).replace(',', ' ').replace('.', ','))"
   ]
  },
  {
   "cell_type": "markdown",
   "metadata": {},
   "source": [
    "Q: combien de temps cela prendra-t-il pour générer un mot de passe si l'on suppose qu'il est possible de prendre le générateur codé précédemment ? (en minutes)"
   ]
  },
  {
   "cell_type": "code",
   "execution_count": null,
   "metadata": {},
   "outputs": [],
   "source": [
    "t = (t_100000/100000)*minorant1\n",
    "\n",
    "# TO DO\n",
    "\n",
    "print('Pour décoder un mot de passe avec le modèle monogramme, cela prendrait en moyenne', round(t)//60, ' min ', round(t)%60, ' sec')"
   ]
  },
  {
   "cell_type": "markdown",
   "metadata": {},
   "source": [
    "## Modèle bigramme (deux lettres)"
   ]
  },
  {
   "cell_type": "markdown",
   "metadata": {},
   "source": [
    "On propose maintenant d'utiliser un modèle plus évolué qui est construit à partir de la probabilité conjointe de deux lettres successives (bigramme)"
   ]
  },
  {
   "cell_type": "code",
   "execution_count": null,
   "metadata": {},
   "outputs": [],
   "source": [
    "bigramme = read_csv('bigramme.csv',keep_default_na=False)\n",
    "freq_bi = (bigramme['frequency']).values\n",
    "letters_bi = (bigramme['letters']).values"
   ]
  },
  {
   "cell_type": "markdown",
   "metadata": {},
   "source": [
    "Q: Quelles sont les 5 couples de lettres les plus représentés ?"
   ]
  },
  {
   "cell_type": "code",
   "execution_count": null,
   "metadata": {},
   "outputs": [],
   "source": [
    "bigramme.sort_values(by=['frequency'], ascending=False).head(5)"
   ]
  },
  {
   "cell_type": "markdown",
   "metadata": {},
   "source": [
    "Les 5 couples de lettres les plus représentés sont ES, EN, DE, LE et NT."
   ]
  },
  {
   "cell_type": "markdown",
   "metadata": {},
   "source": [
    "Q: en utilisant ce modèle probabiliste pour générer un mot de passe, quelle est l'entropie d'un mot de passe de 8 lettres ?"
   ]
  },
  {
   "cell_type": "code",
   "execution_count": null,
   "metadata": {},
   "outputs": [],
   "source": [
    "print ('Entropie mot de passe de 8 lettres pour le modèle bigramme :', round(entropie(freq_bi)*4, 3),\" bits\")"
   ]
  },
  {
   "cell_type": "markdown",
   "metadata": {},
   "source": [
    "Q: Pourquoi cette entropie est-elle inférieure à celle du modèle construit sur des monogrammes ? Quelle propriété théorique de l'entropie peut justifier ce constat  ?"
   ]
  },
  {
   "cell_type": "markdown",
   "metadata": {},
   "source": [
    "Avec le modèle bigramme, on choisit 4 couples de lettres. Ainsi, la deuxième lettre du mot (notée Y) est dépendante de la première lettre (notée X). Or, l'entropie conjointe de X et de Y est inférieure à la somme des entropies de X et de Y : H(X,Y) < H(X) + H(Y). Dans le modèle des monogrammes, les 8 lettres du mot de passe sont choisies de manière indépendante. Ainsi X et Y sont indépendantes et l'inégalité précédente devient une égalité : H(X,Y) = H(X) + H(Y). Par conséquent l'entropie construite sur les monogrammes est plus grande que l'entropie construite sur les bigrammes."
   ]
  },
  {
   "cell_type": "markdown",
   "metadata": {},
   "source": [
    "Q: A l'aide de la fonction `np.random.choice()`, calculer le temps nécessaire en secondes pour tirer 100 000 mots de passes en utilisant ce générateur ?"
   ]
  },
  {
   "cell_type": "code",
   "execution_count": null,
   "metadata": {},
   "outputs": [],
   "source": [
    "t = time.time()\n",
    "\n",
    "# TO DO\n",
    "np.random.choice(letters_bi, size = (100000, 4), p = freq_bi)\n",
    "\n",
    "t_100000_1 = time.time() - t\n",
    "print('Temps nécessaire pour générer 100 000 MdP avec le modèle bigramme :', round(t_100000_1, 5), 's')\n"
   ]
  },
  {
   "cell_type": "markdown",
   "metadata": {},
   "source": [
    "Q: calculer le minorant de $G$ pour ce modèle"
   ]
  },
  {
   "cell_type": "code",
   "execution_count": null,
   "metadata": {},
   "outputs": [],
   "source": [
    "# TO DO\n",
    "H2 = entropie(freq_bi)*4\n",
    "minorant2 = round((2**H2)/4+1)\n",
    "print('Pour le modèle bigramme : G >= ', \"{:,.0f}\".format(minorant2).replace(',', ' ').replace('.', ','))"
   ]
  },
  {
   "cell_type": "markdown",
   "metadata": {},
   "source": [
    "Q: combien de temps cela prendra-t-il si l'on suppose qu'il est possible de prendre le générateur codé précédemment ? (en minutes)"
   ]
  },
  {
   "cell_type": "code",
   "execution_count": null,
   "metadata": {},
   "outputs": [],
   "source": [
    "t1 = (t_100000_1/100000)*minorant2\n",
    "\n",
    "# TO DO\n",
    "\n",
    "print('Pour décoder un mot de passe avec le modèle bigramme, cela prendrait en moyenne', round(t1)//60, ' min ', round(t1)%60, ' sec')"
   ]
  },
  {
   "cell_type": "code",
   "execution_count": null,
   "metadata": {},
   "outputs": [],
   "source": [
    "print ('Rapport entre le nombre moyen d\\'essais nécessaires pour chaque méthode :', round(minorant1/minorant2, 3))\n",
    "print ('Différence d\\'entropie entre les deux méthodes :', round(H1-H2, 3))"
   ]
  },
  {
   "cell_type": "markdown",
   "metadata": {},
   "source": [
    "En utilisant un modèle plus évolué tel que le modèle bigramme, nous diminuons l'entropie du mot de passe d'environ 1,5 bits. Ainsi, le temps nécessaire pour décoder un mot de passe est quasiment divisé par 3 par rapport au modèle monogramme. En effet, nous avons en moyenne besoin de faire 3 fois plus d'essais avec le modèle monogramme."
   ]
  },
  {
   "cell_type": "markdown",
   "metadata": {},
   "source": [
    "## Tirage aléatoire"
   ]
  },
  {
   "cell_type": "markdown",
   "metadata": {},
   "source": [
    "Q: si maintenant on change de stratégie et on tire aléatoirement chaque lettre de l'alphabet de façon uniforme, quelle est l'entropie de ce nouveau générateur ?"
   ]
  },
  {
   "cell_type": "code",
   "execution_count": null,
   "metadata": {},
   "outputs": [],
   "source": [
    "# TO DO\n",
    "print ('Entropie mot de passe de 8 lettres tirées aléatoirement :', round(entropie(np.ones(26)*(1/26))*8, 3),\" bits\")"
   ]
  },
  {
   "cell_type": "markdown",
   "metadata": {},
   "source": [
    "Q: A l'aide de la fonction `np.random.choice()`, calculer le temps nécessaire en secondes pour tirer 100 000 mots de passes en utilisant ce générateur ?"
   ]
  },
  {
   "cell_type": "code",
   "execution_count": null,
   "metadata": {},
   "outputs": [],
   "source": [
    "# TO DO\n",
    "t = time.time()\n",
    "\n",
    "# TO DO\n",
    "np.random.choice(letters_mono, size = (100000, 8), p = None)\n",
    "\n",
    "t_100000_3 = time.time() - t\n",
    "print('Temps nécessaire pour générer 100 000 MdP avec un tirage aléatoire :', round(t_100000_3, 5), 's')\n"
   ]
  },
  {
   "cell_type": "markdown",
   "metadata": {},
   "source": [
    "Q: calculer le minorant de $G$ pour ce modèle"
   ]
  },
  {
   "cell_type": "code",
   "execution_count": null,
   "metadata": {},
   "outputs": [],
   "source": [
    "H3 = entropie(np.ones(26)*(1/26))*8\n",
    "minorant3 = round((2**H3)/4+1)\n",
    "print('Pour un tirage aléatoire : G >= ', \"{:,.0f}\".format(minorant3).replace(',', ' ').replace('.', ','))"
   ]
  },
  {
   "cell_type": "markdown",
   "metadata": {},
   "source": [
    "Q: dans ce cas précis, quelle est la valeur exacte de $G$?"
   ]
  },
  {
   "cell_type": "code",
   "execution_count": null,
   "metadata": {},
   "outputs": [],
   "source": [
    "print('Valeur exacte de G :', \"{:,.0f}\".format(26**8/2).replace(',', ' ').replace('.', ','))"
   ]
  },
  {
   "cell_type": "markdown",
   "metadata": {},
   "source": [
    "Q: combien de temps cela prendra-t-il en utilisant le générateur codé précédemment ? (en minutes)"
   ]
  },
  {
   "cell_type": "code",
   "execution_count": null,
   "metadata": {},
   "outputs": [],
   "source": [
    "t3 = (t_100000_3/100000)*minorant3\n",
    "\n",
    "# TO DO\n",
    "\n",
    "print('Pour décoder un mot de passe avec un tirage aléatoire, cela prendrait en moyenne', round(t3)//60, ' min ', round(t3)%60, ' sec')"
   ]
  },
  {
   "cell_type": "code",
   "execution_count": null,
   "metadata": {},
   "outputs": [],
   "source": [
    "print ('Rapport entre le nombre moyen d\\'essais nécessaires pour chaque méthode :', round(minorant3/minorant2, 3))\n",
    "print ('Différence d\\'entropie entre les deux méthodes :', round(H3-H2, 3))"
   ]
  },
  {
   "cell_type": "markdown",
   "metadata": {},
   "source": [
    "En tirant aléatoirement les 8 lettres du mots de passe, on augmente l'entropie de 7,5 bits par rapport au modèle bigramme. Ansi, on a multiplié le nombre d'essais nécessaire par un facteur d'ordre de grandeur 100. Ainsi, le temps de décodage explose (plusieurs heures). Pourtant, générer 100 000 mots de passe avec un tirage aléatoire est environ 2 à 3 fois plus rapide que générer ce même nombre de MdP avec un modèle bigramme ou monogramme."
   ]
  },
  {
   "cell_type": "markdown",
   "metadata": {},
   "source": [
    "## Attaque pratique"
   ]
  },
  {
   "cell_type": "markdown",
   "metadata": {},
   "source": [
    "Q: implémenter une attaque pratique qui consiste à:\n",
    "1. **pour le défenseur:** tirer un mot de passe de 4 lettres consécutives à partir de ce texte de Victor Hugo (texteFrancais.txt) tiré des Misérables.  \n",
    "2. **pour l'attaquant:** utiliser le modèle bigramme pour générer des mots de passe et minimiser le nombre d'essais. Pour cela on pourra :\n",
    "    * dans un premier temps pré-calculer un **dictionnaire**, qui contriendra un nombre de MdP générés classés dans l'ordre du plus probable au moins probable et qui ne contient pas de doublons \n",
    "    * dans un deuxième temps appeler ce dictionnaire pour comparer chacune de ses entrées au mot de passe généré.\n",
    "3. Il faudra faire ses tests plusieurs fois afin de d'obtenir un nombre moyens d'appel au dictionnaire nécessaire\n",
    "4. Il sera intéressant de comparer le nombre trouvé à la valeur de G (qui est une borne inférieure)\n",
    "5. Question annexe: Par un simple calcul, si le générateur utilisé n'est plus ce générateur mais un générateur qui tire chaque lettre de façon équiprobable, rappeler la valeur de G. Comparer cette valeur avec la valeur trouvée en utilisant la stratégie \"des 4 lettres consécutives\"."
   ]
  },
  {
   "cell_type": "code",
   "execution_count": null,
   "metadata": {},
   "outputs": [],
   "source": [
    "text_hugo = open(\"texteFrancais.txt\",\"r\")\n",
    "str_hugo = str(text_hugo.read())\n",
    "\n",
    "# On remplace des lettres avec accent avec des lettres sans accent\n",
    "str_hugo = str_hugo.replace(\"Â\", \"A\")\n",
    "#str_hugo = str_hugo.replace(\"Ã\", \"A\")\n",
    "str_hugo = str_hugo.replace(\"Ù\", \"U\")\n",
    "str_hugo = str_hugo.replace(\"Ô\", \"O\")\n",
    "str_hugo = str_hugo.replace(\"Ã‚\", \"A\")\n",
    "str_hugo = str_hugo.replace(\"Ã”\", \"O\")\n",
    "str_hugo = str_hugo.replace(\"Ã™\", \"U\")\n",
    "size_txt = len(str_hugo)\n",
    "\n",
    "Counter(str_hugo)"
   ]
  },
  {
   "cell_type": "markdown",
   "metadata": {},
   "source": [
    "### Construction du dictionnaire"
   ]
  },
  {
   "cell_type": "code",
   "execution_count": null,
   "metadata": {},
   "outputs": [],
   "source": [
    "bi = bigramme.sort_values(by=['frequency'], ascending=False)['letters']\n",
    "pb = bigramme.sort_values(by=['frequency'], ascending=False)['frequency']\n",
    "mdp1 = [x+y for x in bi for y in bi]\n",
    "prb = [x*y for x in pb for y in pb]\n",
    "tab_passwd = pd.DataFrame(np.array([mdp1, prb]).T, columns = ['mdp', 'proba'])\n",
    "tab_passwd[['proba']] = tab_passwd[['proba']].astype(float)\n",
    "tab_passwd = tab_passwd.drop_duplicates()\n",
    "tab_passwd = tab_passwd.sort_values(by=['proba'], ascending=False)\n",
    "tab_passwd.head(10)"
   ]
  },
  {
   "cell_type": "markdown",
   "metadata": {},
   "source": [
    "### Attaque sur 1 000 mots de passe"
   ]
  },
  {
   "cell_type": "code",
   "execution_count": null,
   "metadata": {},
   "outputs": [],
   "source": [
    "def appartient (x, liste):\n",
    "    for i in range (len(liste)):\n",
    "        if x == liste[i]:\n",
    "            return i+1\n",
    "    return False\n",
    "\n",
    "essais = []\n",
    "for i in range (1000):\n",
    "    idx_rand = np.random.randint(size_txt-4)\n",
    "    psswd = str_hugo[idx_rand:idx_rand+4]    \n",
    "    essais.append(appartient(psswd, (tab_passwd['mdp']).values))\n",
    "\n",
    "print('Nombre moyens d\\'appel au dictionnaire nécessaire :', round(np.mean(essais))) "
   ]
  },
  {
   "cell_type": "code",
   "execution_count": null,
   "metadata": {},
   "outputs": [],
   "source": [
    "# Comparaison avec la valeur de G\n",
    "# To do\n",
    "H = entropie(freq_bi)*2\n",
    "minorant4 = round((2**H)/4+1)\n",
    "print('Pour le modèle bigramme avec un mot de passe de 4 lettres : G >= ', minorant4)"
   ]
  },
  {
   "cell_type": "markdown",
   "metadata": {},
   "source": [
    "Le nombre d'essais moyen minimal théorique est environ 1,5 fois plus faible que le nombre d'essais moyen obtenu en pratique."
   ]
  },
  {
   "cell_type": "code",
   "execution_count": null,
   "metadata": {},
   "outputs": [],
   "source": [
    "H = entropie(np.ones(26)*(1/26))*4\n",
    "minorant5 = round((2**H)/4+1)\n",
    "print('En tirant 4 lettres de manière aléatoire : G >= ', \"{:,.0f}\".format(minorant5).replace(',', ' ').replace('.', ','))"
   ]
  },
  {
   "cell_type": "markdown",
   "metadata": {},
   "source": [
    "En tirant 4 lettres de manière aléatoire, on a besoin d'environ 13 fois plus d'essais qu'avec le modèle bigramme. Le modèle bigramme est assez efficace pour décoder un mot de passe de 4 lettres puisque en théorie, le nombre minimal d'essais en moyenne est de 8 607."
   ]
  },
  {
   "cell_type": "markdown",
   "metadata": {},
   "source": [
    "## Conclusions \n",
    "\n",
    "- Définir des bonnes pratiques pour le défenseur, i.e. la personne cherchant à concevoir un système de génération de mots de passe ? \n",
    "- Définior des bonnes pratiques pour l'attaquant, i.e. la personne essayant de trouver le mot de passe ?"
   ]
  },
  {
   "cell_type": "markdown",
   "metadata": {},
   "source": [
    "Pour le défenseur : \n",
    "\n",
    "- Ne pas utiliser un mot unique du dictionnaire\n",
    "- Utiliser des combinaisons de lettres peu communes (exemple : 'YW', 'HX' plutôt que 'ES', 'TE')\n",
    "- Utiliser un mot de passe long (un mot de passe de 8 lettres est plus efficace d'un MdP de 4 lettres).\n",
    "\n",
    "Pour l'attaquant :\n",
    "\n",
    "- Créer un dictionnaire de mots de passe en les classant du plus probable au moins probable\n",
    "- Essayer chaque mot de passe en commençant par le plus probable"
   ]
  },
  {
   "cell_type": "markdown",
   "metadata": {},
   "source": [
    "**To do**"
   ]
  },
  {
   "cell_type": "markdown",
   "metadata": {},
   "source": [
    "## Un peu de lecture\n",
    "Cet article montre comment des hackers, à partir de leaks de bases de mots de passes, peuvent rapidement arriver à trouver le votre:\n",
    "https://arstechnica.com/information-technology/2013/05/how-crackers-make-minced-meat-out-of-your-passwords/\n"
   ]
  }
 ],
 "metadata": {
  "kernelspec": {
   "display_name": "Python 3",
   "language": "python",
   "name": "python3"
  },
  "language_info": {
   "codemirror_mode": {
    "name": "ipython",
    "version": 3
   },
   "file_extension": ".py",
   "mimetype": "text/x-python",
   "name": "python",
   "nbconvert_exporter": "python",
   "pygments_lexer": "ipython3",
   "version": "3.8.8"
  }
 },
 "nbformat": 4,
 "nbformat_minor": 2
}
